{
 "cells": [
  {
   "cell_type": "markdown",
   "metadata": {},
   "source": [
    "## 1. Write a function that receives a number and printes the star tree.\n"
   ]
  },
  {
   "cell_type": "raw",
   "metadata": {},
   "source": [
    "e.g.:\n",
    "def tree(10) # output =>\n",
    "         \n",
    "        *\n",
    "       ***\n",
    "      *****\n",
    "     *******\n",
    "    *********\n",
    "   ***********\n",
    "  *************\n",
    " ***************\n",
    "*****************     "
   ]
  },
  {
   "cell_type": "code",
   "execution_count": null,
   "metadata": {},
   "outputs": [],
   "source": []
  },
  {
   "cell_type": "markdown",
   "metadata": {},
   "source": [
    "## 2. Write a function that prints the nth number of the fibonacci sequence:\n",
    "def get_nth_fib(10) # output => 34"
   ]
  },
  {
   "cell_type": "code",
   "execution_count": null,
   "metadata": {},
   "outputs": [],
   "source": []
  },
  {
   "cell_type": "markdown",
   "metadata": {},
   "source": [
    "## 3. What is the difference between Python Arrays and lists?\n",
    "show woth example"
   ]
  },
  {
   "cell_type": "code",
   "execution_count": null,
   "metadata": {},
   "outputs": [],
   "source": []
  },
  {
   "cell_type": "markdown",
   "metadata": {},
   "source": [
    "## 4. What does *args and **kwargs mean?\n"
   ]
  },
  {
   "cell_type": "code",
   "execution_count": null,
   "metadata": {},
   "outputs": [],
   "source": []
  },
  {
   "cell_type": "markdown",
   "metadata": {},
   "source": [
    "## 5. How are arguments passed by value or by reference in python?\n"
   ]
  },
  {
   "cell_type": "code",
   "execution_count": null,
   "metadata": {},
   "outputs": [],
   "source": []
  },
  {
   "cell_type": "markdown",
   "metadata": {},
   "source": [
    "## 6. What is pickling and unpickling?\n"
   ]
  },
  {
   "cell_type": "code",
   "execution_count": null,
   "metadata": {},
   "outputs": [],
   "source": []
  },
  {
   "cell_type": "markdown",
   "metadata": {},
   "source": [
    "## 7. What do you know about palindromes? Can you implement one in Python?\n",
    "\n",
    "A palindrome is a phrase, a word, or a sequence that reads the same forward and backward. One such example will be pip! An example of such a phrase will be ‘nurses run’. Let’s implement it, shall we?\n",
    "\n",
    "isPalindrome('redrum murder') # output => True"
   ]
  },
  {
   "cell_type": "code",
   "execution_count": null,
   "metadata": {},
   "outputs": [],
   "source": []
  },
  {
   "cell_type": "markdown",
   "metadata": {},
   "source": [
    "## 8. What is monkey patching?\n"
   ]
  },
  {
   "cell_type": "code",
   "execution_count": null,
   "metadata": {},
   "outputs": [],
   "source": []
  },
  {
   "cell_type": "markdown",
   "metadata": {},
   "source": [
    "## 9. How is multithreading achieved in Python?\n"
   ]
  },
  {
   "cell_type": "code",
   "execution_count": null,
   "metadata": {},
   "outputs": [],
   "source": []
  },
  {
   "cell_type": "markdown",
   "metadata": {},
   "source": [
    "## 10. What are decorators in Python?"
   ]
  },
  {
   "cell_type": "code",
   "execution_count": 8,
   "metadata": {
    "scrolled": true
   },
   "outputs": [
    {
     "data": {
      "text/plain": [
       "'Hello World'"
      ]
     },
     "execution_count": 8,
     "metadata": {},
     "output_type": "execute_result"
    }
   ],
   "source": [
    "@lowercase_decorator\t# this is executed first\n",
    "def hello():\n",
    "    return 'Hello World'\n",
    "\n",
    "hello() \t # output => 'hello world'"
   ]
  },
  {
   "cell_type": "markdown",
   "metadata": {},
   "source": [
    "## 11. Open and Closed Principle(OCP):\n",
    "\n",
    "Example:\n",
    "Violation of OCP"
   ]
  },
  {
   "cell_type": "code",
   "execution_count": 5,
   "metadata": {},
   "outputs": [],
   "source": [
    "class Discount:\n",
    "   \"\"\"Demo customer discount class\"\"\"\n",
    "   def __init__(self, customer, price):\n",
    "       self.customer = customer\n",
    "       self.price = price\n",
    "   def give_discount(self):\n",
    "       \"\"\"A discount method\"\"\"\n",
    "       if self.customer == 'normal':\n",
    "           return self.price * 0.2\n",
    "       elif self.customer == 'vip':\n",
    "           return self.price * 0.4"
   ]
  },
  {
   "cell_type": "markdown",
   "metadata": {},
   "source": [
    "This example is failed to pass the Open and Close Principle(OCP). Assume, we have a super VIP customer and we want to give a discount of 0.8 percentage. What would we do in this case?"
   ]
  },
  {
   "cell_type": "code",
   "execution_count": null,
   "metadata": {},
   "outputs": [],
   "source": []
  },
  {
   "cell_type": "markdown",
   "metadata": {},
   "source": [
    "## 12. Liskov Substitution Principle(LSP):\n"
   ]
  },
  {
   "cell_type": "code",
   "execution_count": 6,
   "metadata": {},
   "outputs": [],
   "source": [
    "class Vehicle:\n",
    "   \"\"\"A demo Vehicle class\"\"\"\n",
    "\n",
    "   def __init__(self, name: str, speed: float):\n",
    "       self.name = name\n",
    "       self.speed = speed\n",
    "\n",
    "   def get_name(self) -> str:\n",
    "       \"\"\"Get vehicle name\"\"\"\n",
    "       return f\"The vehicle name {self.name}\"\n",
    "\n",
    "   def get_speed(self) -> str:\n",
    "       \"\"\"Get vehicle speed\"\"\"\n",
    "       return f\"The vehicle speed {self.speed}\"\n",
    "\n",
    "   def engine(self):\n",
    "       \"\"\"A vehicle engine\"\"\"\n",
    "       pass\n",
    "\n",
    "   def start_engine(self):\n",
    "       \"\"\"A vehicle engine start\"\"\"\n",
    "       self.engine()\n",
    "\n",
    "\n",
    "class Car(Vehicle):\n",
    "   \"\"\"A demo Car Vehicle class\"\"\"\n",
    "   def start_engine(self):\n",
    "       pass\n",
    "\n",
    "\n",
    "class Bicycle(Vehicle):\n",
    "   \"\"\"A demo Bicycle Vehicle class\"\"\"\n",
    "   def start_engine(self):\n",
    "       pass"
   ]
  },
  {
   "cell_type": "code",
   "execution_count": null,
   "metadata": {},
   "outputs": [],
   "source": []
  },
  {
   "cell_type": "code",
   "execution_count": null,
   "metadata": {},
   "outputs": [],
   "source": []
  }
 ],
 "metadata": {
  "kernelspec": {
   "display_name": "Python 3",
   "language": "python",
   "name": "python3"
  },
  "language_info": {
   "codemirror_mode": {
    "name": "ipython",
    "version": 3
   },
   "file_extension": ".py",
   "mimetype": "text/x-python",
   "name": "python",
   "nbconvert_exporter": "python",
   "pygments_lexer": "ipython3",
   "version": "3.8.5"
  }
 },
 "nbformat": 4,
 "nbformat_minor": 4
}
